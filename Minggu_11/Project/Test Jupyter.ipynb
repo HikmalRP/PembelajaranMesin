{
 "cells": [
  {
   "cell_type": "code",
   "execution_count": 4,
   "id": "5a591050-4c48-4c4b-8381-74996fa9e21e",
   "metadata": {},
   "outputs": [],
   "source": [
    "import numpy as np\n",
    "import pandas as pd\n",
    "import matplotlib.pyplot as plt\n",
    "import pandas_profiling as pp\n",
    "import seaborn as sns\n",
    "from datetime import datetime\n",
    "import plotly.express as px\n",
    "# Deskripsi library"
   ]
  },
  {
   "cell_type": "code",
   "execution_count": 5,
   "id": "6254882a-2df1-4f65-a24f-5d3dcd24a4bb",
   "metadata": {},
   "outputs": [],
   "source": [
    "df = pd.read_csv('mobile-games-revenue.csv')\n",
    "# Memanggil Dataset"
   ]
  },
  {
   "cell_type": "code",
   "execution_count": 6,
   "id": "3ce62630-42cf-49b1-9608-1c7e05e88c2d",
   "metadata": {},
   "outputs": [
    {
     "data": {
      "text/html": [
       "<div>\n",
       "<style scoped>\n",
       "    .dataframe tbody tr th:only-of-type {\n",
       "        vertical-align: middle;\n",
       "    }\n",
       "\n",
       "    .dataframe tbody tr th {\n",
       "        vertical-align: top;\n",
       "    }\n",
       "\n",
       "    .dataframe thead th {\n",
       "        text-align: right;\n",
       "    }\n",
       "</style>\n",
       "<table border=\"1\" class=\"dataframe\">\n",
       "  <thead>\n",
       "    <tr style=\"text-align: right;\">\n",
       "      <th></th>\n",
       "      <th>Game</th>\n",
       "      <th>Revenue</th>\n",
       "      <th>Initial release</th>\n",
       "      <th>Publisher(s)</th>\n",
       "      <th>Genre(s)</th>\n",
       "    </tr>\n",
       "  </thead>\n",
       "  <tbody>\n",
       "    <tr>\n",
       "      <th>0</th>\n",
       "      <td>Honor of Kings / Arena of Valor</td>\n",
       "      <td>14667500000</td>\n",
       "      <td>2015-11-26</td>\n",
       "      <td>Tencent Games</td>\n",
       "      <td>MOBA</td>\n",
       "    </tr>\n",
       "    <tr>\n",
       "      <th>1</th>\n",
       "      <td>Monster Strike</td>\n",
       "      <td>10000000000</td>\n",
       "      <td>2013-08-08</td>\n",
       "      <td>Mixi</td>\n",
       "      <td>Puzzle / RPG / Strategy</td>\n",
       "    </tr>\n",
       "    <tr>\n",
       "      <th>2</th>\n",
       "      <td>PUBG Mobile</td>\n",
       "      <td>9000000000</td>\n",
       "      <td>2018-03-19</td>\n",
       "      <td>Tencent Games / Krafton / VNG Games</td>\n",
       "      <td>Battle royale</td>\n",
       "    </tr>\n",
       "    <tr>\n",
       "      <th>3</th>\n",
       "      <td>Puzzle &amp; Dragons</td>\n",
       "      <td>8578340000</td>\n",
       "      <td>2012-02-20</td>\n",
       "      <td>GungHo Online Entertainment</td>\n",
       "      <td>RPG / Puzzle</td>\n",
       "    </tr>\n",
       "    <tr>\n",
       "      <th>4</th>\n",
       "      <td>Clash of Clans</td>\n",
       "      <td>8000000000</td>\n",
       "      <td>2012-08-02</td>\n",
       "      <td>Supercell (Tencent)</td>\n",
       "      <td>Strategy</td>\n",
       "    </tr>\n",
       "    <tr>\n",
       "      <th>...</th>\n",
       "      <td>...</td>\n",
       "      <td>...</td>\n",
       "      <td>...</td>\n",
       "      <td>...</td>\n",
       "      <td>...</td>\n",
       "    </tr>\n",
       "    <tr>\n",
       "      <th>99</th>\n",
       "      <td>Yahtzee With Buddies</td>\n",
       "      <td>113000000</td>\n",
       "      <td>2017-11-01</td>\n",
       "      <td>Scopely</td>\n",
       "      <td>Yahtzee</td>\n",
       "    </tr>\n",
       "    <tr>\n",
       "      <th>100</th>\n",
       "      <td>Dragon Quest Tact</td>\n",
       "      <td>111990000</td>\n",
       "      <td>2020-07-16</td>\n",
       "      <td>Square Enix</td>\n",
       "      <td>Tactical RPG</td>\n",
       "    </tr>\n",
       "    <tr>\n",
       "      <th>101</th>\n",
       "      <td>Fallout Shelter</td>\n",
       "      <td>100000000</td>\n",
       "      <td>2015-06-14</td>\n",
       "      <td>Bethesda Softworks</td>\n",
       "      <td>Simulation (CMS)</td>\n",
       "    </tr>\n",
       "    <tr>\n",
       "      <th>102</th>\n",
       "      <td>Mafia City</td>\n",
       "      <td>100000000</td>\n",
       "      <td>2017-07-25</td>\n",
       "      <td>Yotta Games</td>\n",
       "      <td>RPG</td>\n",
       "    </tr>\n",
       "    <tr>\n",
       "      <th>103</th>\n",
       "      <td>Madden NFL Overdrive</td>\n",
       "      <td>100000000</td>\n",
       "      <td>2018-08-15</td>\n",
       "      <td>EA Sports (Electronic Arts)</td>\n",
       "      <td>Sports (American football)</td>\n",
       "    </tr>\n",
       "  </tbody>\n",
       "</table>\n",
       "<p>104 rows × 5 columns</p>\n",
       "</div>"
      ],
      "text/plain": [
       "                                Game      Revenue Initial release  \\\n",
       "0    Honor of Kings / Arena of Valor  14667500000      2015-11-26   \n",
       "1                     Monster Strike  10000000000      2013-08-08   \n",
       "2                        PUBG Mobile   9000000000      2018-03-19   \n",
       "3                   Puzzle & Dragons   8578340000      2012-02-20   \n",
       "4                     Clash of Clans   8000000000      2012-08-02   \n",
       "..                               ...          ...             ...   \n",
       "99              Yahtzee With Buddies    113000000      2017-11-01   \n",
       "100                Dragon Quest Tact    111990000      2020-07-16   \n",
       "101                  Fallout Shelter    100000000      2015-06-14   \n",
       "102                       Mafia City    100000000      2017-07-25   \n",
       "103             Madden NFL Overdrive    100000000      2018-08-15   \n",
       "\n",
       "                            Publisher(s)                    Genre(s)  \n",
       "0                          Tencent Games                        MOBA  \n",
       "1                                   Mixi     Puzzle / RPG / Strategy  \n",
       "2    Tencent Games / Krafton / VNG Games               Battle royale  \n",
       "3            GungHo Online Entertainment                RPG / Puzzle  \n",
       "4                    Supercell (Tencent)                    Strategy  \n",
       "..                                   ...                         ...  \n",
       "99                               Scopely                     Yahtzee  \n",
       "100                          Square Enix                Tactical RPG  \n",
       "101                   Bethesda Softworks            Simulation (CMS)  \n",
       "102                          Yotta Games                         RPG  \n",
       "103          EA Sports (Electronic Arts)  Sports (American football)  \n",
       "\n",
       "[104 rows x 5 columns]"
      ]
     },
     "execution_count": 6,
     "metadata": {},
     "output_type": "execute_result"
    }
   ],
   "source": [
    "df\n",
    "# Deskripsi Dataset"
   ]
  },
  {
   "cell_type": "code",
   "execution_count": 7,
   "id": "37993f43-c932-4495-8a44-bb293ac5a065",
   "metadata": {},
   "outputs": [
    {
     "data": {
      "text/plain": [
       "Game               object\n",
       "Revenue             int64\n",
       "Initial release    object\n",
       "Publisher(s)       object\n",
       "Genre(s)           object\n",
       "dtype: object"
      ]
     },
     "execution_count": 7,
     "metadata": {},
     "output_type": "execute_result"
    }
   ],
   "source": [
    "df.dtypes"
   ]
  },
  {
   "cell_type": "code",
   "execution_count": 8,
   "id": "1354f073-3e37-4bcb-9818-6e13589f5c8d",
   "metadata": {},
   "outputs": [
    {
     "data": {
      "text/html": [
       "<div>\n",
       "<style scoped>\n",
       "    .dataframe tbody tr th:only-of-type {\n",
       "        vertical-align: middle;\n",
       "    }\n",
       "\n",
       "    .dataframe tbody tr th {\n",
       "        vertical-align: top;\n",
       "    }\n",
       "\n",
       "    .dataframe thead th {\n",
       "        text-align: right;\n",
       "    }\n",
       "</style>\n",
       "<table border=\"1\" class=\"dataframe\">\n",
       "  <thead>\n",
       "    <tr style=\"text-align: right;\">\n",
       "      <th></th>\n",
       "      <th>Game</th>\n",
       "      <th>Revenue</th>\n",
       "      <th>Initial release</th>\n",
       "      <th>Publisher(s)</th>\n",
       "      <th>Genre(s)</th>\n",
       "    </tr>\n",
       "  </thead>\n",
       "  <tbody>\n",
       "    <tr>\n",
       "      <th>0</th>\n",
       "      <td>Honor of Kings / Arena of Valor</td>\n",
       "      <td>14667500000</td>\n",
       "      <td>2015-11-26</td>\n",
       "      <td>Tencent Games</td>\n",
       "      <td>MOBA</td>\n",
       "    </tr>\n",
       "    <tr>\n",
       "      <th>1</th>\n",
       "      <td>Monster Strike</td>\n",
       "      <td>10000000000</td>\n",
       "      <td>2013-08-08</td>\n",
       "      <td>Mixi</td>\n",
       "      <td>Puzzle / RPG / Strategy</td>\n",
       "    </tr>\n",
       "    <tr>\n",
       "      <th>2</th>\n",
       "      <td>PUBG Mobile</td>\n",
       "      <td>9000000000</td>\n",
       "      <td>2018-03-19</td>\n",
       "      <td>Tencent Games / Krafton / VNG Games</td>\n",
       "      <td>Battle royale</td>\n",
       "    </tr>\n",
       "    <tr>\n",
       "      <th>3</th>\n",
       "      <td>Puzzle &amp; Dragons</td>\n",
       "      <td>8578340000</td>\n",
       "      <td>2012-02-20</td>\n",
       "      <td>GungHo Online Entertainment</td>\n",
       "      <td>RPG / Puzzle</td>\n",
       "    </tr>\n",
       "    <tr>\n",
       "      <th>4</th>\n",
       "      <td>Clash of Clans</td>\n",
       "      <td>8000000000</td>\n",
       "      <td>2012-08-02</td>\n",
       "      <td>Supercell (Tencent)</td>\n",
       "      <td>Strategy</td>\n",
       "    </tr>\n",
       "    <tr>\n",
       "      <th>5</th>\n",
       "      <td>Pokémon Go</td>\n",
       "      <td>7760000000</td>\n",
       "      <td>2016-07-06</td>\n",
       "      <td>Niantic / The Pokémon Company</td>\n",
       "      <td>Augmented reality</td>\n",
       "    </tr>\n",
       "    <tr>\n",
       "      <th>6</th>\n",
       "      <td>Candy Crush Saga</td>\n",
       "      <td>7456000000</td>\n",
       "      <td>2012-11-14</td>\n",
       "      <td>King (Activision Blizzard)</td>\n",
       "      <td>Puzzle</td>\n",
       "    </tr>\n",
       "    <tr>\n",
       "      <th>7</th>\n",
       "      <td>Fate/Grand Order</td>\n",
       "      <td>6300000000</td>\n",
       "      <td>2015-07-30</td>\n",
       "      <td>Aniplex (Sony Music Entertainment Japan)</td>\n",
       "      <td>RPG</td>\n",
       "    </tr>\n",
       "    <tr>\n",
       "      <th>8</th>\n",
       "      <td>Fantasy Westward Journey</td>\n",
       "      <td>4700000000</td>\n",
       "      <td>2015-03-26</td>\n",
       "      <td>NetEase</td>\n",
       "      <td>MMORPG</td>\n",
       "    </tr>\n",
       "    <tr>\n",
       "      <th>9</th>\n",
       "      <td>Garena Free Fire</td>\n",
       "      <td>4330000000</td>\n",
       "      <td>2017-12-04</td>\n",
       "      <td>Garena</td>\n",
       "      <td>Battle royale</td>\n",
       "    </tr>\n",
       "    <tr>\n",
       "      <th>10</th>\n",
       "      <td>Roblox Mobile</td>\n",
       "      <td>3919000000</td>\n",
       "      <td>2012-12-11</td>\n",
       "      <td>Roblox Corporation</td>\n",
       "      <td>GCS / MMO</td>\n",
       "    </tr>\n",
       "    <tr>\n",
       "      <th>11</th>\n",
       "      <td>Genshin Impact</td>\n",
       "      <td>3567000000</td>\n",
       "      <td>2020-09-28</td>\n",
       "      <td>miHoYo</td>\n",
       "      <td>Action RPG</td>\n",
       "    </tr>\n",
       "    <tr>\n",
       "      <th>12</th>\n",
       "      <td>Lineage M</td>\n",
       "      <td>3578000000</td>\n",
       "      <td>2017-06-21</td>\n",
       "      <td>NCsoft</td>\n",
       "      <td>MMORPG</td>\n",
       "    </tr>\n",
       "    <tr>\n",
       "      <th>13</th>\n",
       "      <td>Dragon Ball Z: Dokkan Battle</td>\n",
       "      <td>3500000000</td>\n",
       "      <td>2015-01-30</td>\n",
       "      <td>Bandai Namco Entertainment</td>\n",
       "      <td>RPG / Puzzle</td>\n",
       "    </tr>\n",
       "    <tr>\n",
       "      <th>14</th>\n",
       "      <td>Coin Master</td>\n",
       "      <td>3008000000</td>\n",
       "      <td>2018-03-19</td>\n",
       "      <td>Moon Active</td>\n",
       "      <td>Casual / Casino</td>\n",
       "    </tr>\n",
       "    <tr>\n",
       "      <th>15</th>\n",
       "      <td>Clash Royale</td>\n",
       "      <td>3000000000</td>\n",
       "      <td>2016-03-02</td>\n",
       "      <td>Supercell (Tencent)</td>\n",
       "      <td>Real-time strategy</td>\n",
       "    </tr>\n",
       "    <tr>\n",
       "      <th>16</th>\n",
       "      <td>Gardenscapes</td>\n",
       "      <td>3000000000</td>\n",
       "      <td>2016-07-05</td>\n",
       "      <td>Playrix</td>\n",
       "      <td>Puzzle / Decoration</td>\n",
       "    </tr>\n",
       "    <tr>\n",
       "      <th>17</th>\n",
       "      <td>Game of War: Fire Age</td>\n",
       "      <td>2800000000</td>\n",
       "      <td>2013-07-25</td>\n",
       "      <td>Machine Zone</td>\n",
       "      <td>Strategy</td>\n",
       "    </tr>\n",
       "    <tr>\n",
       "      <th>18</th>\n",
       "      <td>Lords Mobile</td>\n",
       "      <td>2576700000</td>\n",
       "      <td>2016-02-26</td>\n",
       "      <td>IGG</td>\n",
       "      <td>Strategy / MMO</td>\n",
       "    </tr>\n",
       "    <tr>\n",
       "      <th>19</th>\n",
       "      <td>Homescapes</td>\n",
       "      <td>2294000000</td>\n",
       "      <td>2017-09-15</td>\n",
       "      <td>Playrix</td>\n",
       "      <td>Puzzle / Decoration</td>\n",
       "    </tr>\n",
       "  </tbody>\n",
       "</table>\n",
       "</div>"
      ],
      "text/plain": [
       "                               Game      Revenue Initial release  \\\n",
       "0   Honor of Kings / Arena of Valor  14667500000      2015-11-26   \n",
       "1                    Monster Strike  10000000000      2013-08-08   \n",
       "2                       PUBG Mobile   9000000000      2018-03-19   \n",
       "3                  Puzzle & Dragons   8578340000      2012-02-20   \n",
       "4                    Clash of Clans   8000000000      2012-08-02   \n",
       "5                        Pokémon Go   7760000000      2016-07-06   \n",
       "6                  Candy Crush Saga   7456000000      2012-11-14   \n",
       "7                  Fate/Grand Order   6300000000      2015-07-30   \n",
       "8          Fantasy Westward Journey   4700000000      2015-03-26   \n",
       "9                  Garena Free Fire   4330000000      2017-12-04   \n",
       "10                    Roblox Mobile   3919000000      2012-12-11   \n",
       "11                   Genshin Impact   3567000000      2020-09-28   \n",
       "12                        Lineage M   3578000000      2017-06-21   \n",
       "13     Dragon Ball Z: Dokkan Battle   3500000000      2015-01-30   \n",
       "14                      Coin Master   3008000000      2018-03-19   \n",
       "15                     Clash Royale   3000000000      2016-03-02   \n",
       "16                     Gardenscapes   3000000000      2016-07-05   \n",
       "17            Game of War: Fire Age   2800000000      2013-07-25   \n",
       "18                     Lords Mobile   2576700000      2016-02-26   \n",
       "19                       Homescapes   2294000000      2017-09-15   \n",
       "\n",
       "                                Publisher(s)                 Genre(s)  \n",
       "0                              Tencent Games                     MOBA  \n",
       "1                                       Mixi  Puzzle / RPG / Strategy  \n",
       "2        Tencent Games / Krafton / VNG Games            Battle royale  \n",
       "3                GungHo Online Entertainment             RPG / Puzzle  \n",
       "4                        Supercell (Tencent)                 Strategy  \n",
       "5              Niantic / The Pokémon Company        Augmented reality  \n",
       "6                 King (Activision Blizzard)                   Puzzle  \n",
       "7   Aniplex (Sony Music Entertainment Japan)                      RPG  \n",
       "8                                    NetEase                   MMORPG  \n",
       "9                                     Garena            Battle royale  \n",
       "10                        Roblox Corporation                GCS / MMO  \n",
       "11                                    miHoYo               Action RPG  \n",
       "12                                    NCsoft                   MMORPG  \n",
       "13                Bandai Namco Entertainment             RPG / Puzzle  \n",
       "14                               Moon Active          Casual / Casino  \n",
       "15                       Supercell (Tencent)       Real-time strategy  \n",
       "16                                   Playrix      Puzzle / Decoration  \n",
       "17                              Machine Zone                 Strategy  \n",
       "18                                       IGG           Strategy / MMO  \n",
       "19                                   Playrix      Puzzle / Decoration  "
      ]
     },
     "execution_count": 8,
     "metadata": {},
     "output_type": "execute_result"
    }
   ],
   "source": [
    "df.head(20)"
   ]
  },
  {
   "cell_type": "code",
   "execution_count": 9,
   "id": "6e5d0b5c-9b7f-4614-aa71-866ef3b50b60",
   "metadata": {},
   "outputs": [
    {
     "name": "stdout",
     "output_type": "stream",
     "text": [
      "Rata - Rata Pendapatan : 1617105432.6923077\n",
      "Pendapatan Game Tertinggi : Honor of Kings / Arena of Valor\n"
     ]
    }
   ],
   "source": [
    "average_revenue = df['Revenue'].mean()\n",
    "\n",
    "top_game = df.loc[df['Revenue'].idxmax(), 'Game']\n",
    "\n",
    "print(\"Rata - Rata Pendapatan :\", average_revenue)\n",
    "print(\"Pendapatan Game Tertinggi :\", top_game)\n",
    "# Melihat pendapatan tertinggi"
   ]
  },
  {
   "cell_type": "code",
   "execution_count": 10,
   "id": "0ef8b6e3-f39e-49fd-bb6f-a0a0d28a5218",
   "metadata": {},
   "outputs": [
    {
     "name": "stdout",
     "output_type": "stream",
     "text": [
      "Rata - Rata Pendapatan : 1617105432.6923077\n",
      "Pendapatan Game Terendah : Fallout Shelter\n"
     ]
    }
   ],
   "source": [
    "average_revenue = df['Revenue'].mean()\n",
    "\n",
    "min_game = df.loc[df['Revenue'].idxmin(), 'Game']\n",
    "\n",
    "print(\"Rata - Rata Pendapatan :\", average_revenue)\n",
    "print(\"Pendapatan Game Terendah :\", min_game)\n",
    "# Melihat pendapatan terendah"
   ]
  },
  {
   "cell_type": "code",
   "execution_count": 11,
   "id": "9391ceed-8a32-4898-a9f7-387c86541fc2",
   "metadata": {},
   "outputs": [
    {
     "data": {
      "text/html": [
       "<div>\n",
       "<style scoped>\n",
       "    .dataframe tbody tr th:only-of-type {\n",
       "        vertical-align: middle;\n",
       "    }\n",
       "\n",
       "    .dataframe tbody tr th {\n",
       "        vertical-align: top;\n",
       "    }\n",
       "\n",
       "    .dataframe thead th {\n",
       "        text-align: right;\n",
       "    }\n",
       "</style>\n",
       "<table border=\"1\" class=\"dataframe\">\n",
       "  <thead>\n",
       "    <tr style=\"text-align: right;\">\n",
       "      <th></th>\n",
       "      <th>Game</th>\n",
       "      <th>Revenue</th>\n",
       "    </tr>\n",
       "  </thead>\n",
       "  <tbody>\n",
       "    <tr>\n",
       "      <th>0</th>\n",
       "      <td>Honor of Kings / Arena of Valor</td>\n",
       "      <td>14667500000</td>\n",
       "    </tr>\n",
       "    <tr>\n",
       "      <th>1</th>\n",
       "      <td>Monster Strike</td>\n",
       "      <td>10000000000</td>\n",
       "    </tr>\n",
       "    <tr>\n",
       "      <th>2</th>\n",
       "      <td>PUBG Mobile</td>\n",
       "      <td>9000000000</td>\n",
       "    </tr>\n",
       "    <tr>\n",
       "      <th>3</th>\n",
       "      <td>Puzzle &amp; Dragons</td>\n",
       "      <td>8578340000</td>\n",
       "    </tr>\n",
       "    <tr>\n",
       "      <th>4</th>\n",
       "      <td>Clash of Clans</td>\n",
       "      <td>8000000000</td>\n",
       "    </tr>\n",
       "    <tr>\n",
       "      <th>5</th>\n",
       "      <td>Pokémon Go</td>\n",
       "      <td>7760000000</td>\n",
       "    </tr>\n",
       "    <tr>\n",
       "      <th>6</th>\n",
       "      <td>Candy Crush Saga</td>\n",
       "      <td>7456000000</td>\n",
       "    </tr>\n",
       "    <tr>\n",
       "      <th>7</th>\n",
       "      <td>Fate/Grand Order</td>\n",
       "      <td>6300000000</td>\n",
       "    </tr>\n",
       "    <tr>\n",
       "      <th>8</th>\n",
       "      <td>Fantasy Westward Journey</td>\n",
       "      <td>4700000000</td>\n",
       "    </tr>\n",
       "    <tr>\n",
       "      <th>9</th>\n",
       "      <td>Garena Free Fire</td>\n",
       "      <td>4330000000</td>\n",
       "    </tr>\n",
       "    <tr>\n",
       "      <th>10</th>\n",
       "      <td>Roblox Mobile</td>\n",
       "      <td>3919000000</td>\n",
       "    </tr>\n",
       "    <tr>\n",
       "      <th>11</th>\n",
       "      <td>Genshin Impact</td>\n",
       "      <td>3567000000</td>\n",
       "    </tr>\n",
       "    <tr>\n",
       "      <th>12</th>\n",
       "      <td>Lineage M</td>\n",
       "      <td>3578000000</td>\n",
       "    </tr>\n",
       "    <tr>\n",
       "      <th>13</th>\n",
       "      <td>Dragon Ball Z: Dokkan Battle</td>\n",
       "      <td>3500000000</td>\n",
       "    </tr>\n",
       "    <tr>\n",
       "      <th>14</th>\n",
       "      <td>Coin Master</td>\n",
       "      <td>3008000000</td>\n",
       "    </tr>\n",
       "    <tr>\n",
       "      <th>15</th>\n",
       "      <td>Clash Royale</td>\n",
       "      <td>3000000000</td>\n",
       "    </tr>\n",
       "    <tr>\n",
       "      <th>16</th>\n",
       "      <td>Gardenscapes</td>\n",
       "      <td>3000000000</td>\n",
       "    </tr>\n",
       "    <tr>\n",
       "      <th>17</th>\n",
       "      <td>Game of War: Fire Age</td>\n",
       "      <td>2800000000</td>\n",
       "    </tr>\n",
       "    <tr>\n",
       "      <th>18</th>\n",
       "      <td>Lords Mobile</td>\n",
       "      <td>2576700000</td>\n",
       "    </tr>\n",
       "    <tr>\n",
       "      <th>19</th>\n",
       "      <td>Homescapes</td>\n",
       "      <td>2294000000</td>\n",
       "    </tr>\n",
       "  </tbody>\n",
       "</table>\n",
       "</div>"
      ],
      "text/plain": [
       "                               Game      Revenue\n",
       "0   Honor of Kings / Arena of Valor  14667500000\n",
       "1                    Monster Strike  10000000000\n",
       "2                       PUBG Mobile   9000000000\n",
       "3                  Puzzle & Dragons   8578340000\n",
       "4                    Clash of Clans   8000000000\n",
       "5                        Pokémon Go   7760000000\n",
       "6                  Candy Crush Saga   7456000000\n",
       "7                  Fate/Grand Order   6300000000\n",
       "8          Fantasy Westward Journey   4700000000\n",
       "9                  Garena Free Fire   4330000000\n",
       "10                    Roblox Mobile   3919000000\n",
       "11                   Genshin Impact   3567000000\n",
       "12                        Lineage M   3578000000\n",
       "13     Dragon Ball Z: Dokkan Battle   3500000000\n",
       "14                      Coin Master   3008000000\n",
       "15                     Clash Royale   3000000000\n",
       "16                     Gardenscapes   3000000000\n",
       "17            Game of War: Fire Age   2800000000\n",
       "18                     Lords Mobile   2576700000\n",
       "19                       Homescapes   2294000000"
      ]
     },
     "execution_count": 11,
     "metadata": {},
     "output_type": "execute_result"
    }
   ],
   "source": [
    "df[['Game', 'Revenue']].head(20)\n",
    "# 20 Game Teratas"
   ]
  },
  {
   "cell_type": "code",
   "execution_count": 12,
   "id": "b25477a1-4cf9-4243-9150-122a81454b5f",
   "metadata": {},
   "outputs": [
    {
     "data": {
      "text/html": [
       "<div>\n",
       "<style scoped>\n",
       "    .dataframe tbody tr th:only-of-type {\n",
       "        vertical-align: middle;\n",
       "    }\n",
       "\n",
       "    .dataframe tbody tr th {\n",
       "        vertical-align: top;\n",
       "    }\n",
       "\n",
       "    .dataframe thead th {\n",
       "        text-align: right;\n",
       "    }\n",
       "</style>\n",
       "<table border=\"1\" class=\"dataframe\">\n",
       "  <thead>\n",
       "    <tr style=\"text-align: right;\">\n",
       "      <th></th>\n",
       "      <th>Game</th>\n",
       "      <th>Revenue</th>\n",
       "    </tr>\n",
       "  </thead>\n",
       "  <tbody>\n",
       "    <tr>\n",
       "      <th>84</th>\n",
       "      <td>Empire &amp; Puzzles</td>\n",
       "      <td>186000000</td>\n",
       "    </tr>\n",
       "    <tr>\n",
       "      <th>85</th>\n",
       "      <td>KartRider Rush+</td>\n",
       "      <td>169000000</td>\n",
       "    </tr>\n",
       "    <tr>\n",
       "      <th>86</th>\n",
       "      <td>Dragalia Lost</td>\n",
       "      <td>168000000</td>\n",
       "    </tr>\n",
       "    <tr>\n",
       "      <th>87</th>\n",
       "      <td>Perfect World Mobile</td>\n",
       "      <td>165000000</td>\n",
       "    </tr>\n",
       "    <tr>\n",
       "      <th>88</th>\n",
       "      <td>Three Kingdoms Fantasy Land</td>\n",
       "      <td>161600000</td>\n",
       "    </tr>\n",
       "    <tr>\n",
       "      <th>89</th>\n",
       "      <td>Candy Crush Jelly Saga</td>\n",
       "      <td>158000000</td>\n",
       "    </tr>\n",
       "    <tr>\n",
       "      <th>90</th>\n",
       "      <td>Jikkyō Powerful Pro Yakyū</td>\n",
       "      <td>155000000</td>\n",
       "    </tr>\n",
       "    <tr>\n",
       "      <th>91</th>\n",
       "      <td>Puzzles &amp; Survival</td>\n",
       "      <td>151000000</td>\n",
       "    </tr>\n",
       "    <tr>\n",
       "      <th>92</th>\n",
       "      <td>Slotomania</td>\n",
       "      <td>149000000</td>\n",
       "    </tr>\n",
       "    <tr>\n",
       "      <th>93</th>\n",
       "      <td>NBA Live Mobile</td>\n",
       "      <td>140000000</td>\n",
       "    </tr>\n",
       "    <tr>\n",
       "      <th>94</th>\n",
       "      <td>White Cat Project</td>\n",
       "      <td>134000000</td>\n",
       "    </tr>\n",
       "    <tr>\n",
       "      <th>95</th>\n",
       "      <td>BanG Dream! Girls Band Party!</td>\n",
       "      <td>124050000</td>\n",
       "    </tr>\n",
       "    <tr>\n",
       "      <th>96</th>\n",
       "      <td>CSR Racing 2</td>\n",
       "      <td>121500000</td>\n",
       "    </tr>\n",
       "    <tr>\n",
       "      <th>97</th>\n",
       "      <td>One Piece: Burning Will</td>\n",
       "      <td>117000000</td>\n",
       "    </tr>\n",
       "    <tr>\n",
       "      <th>98</th>\n",
       "      <td>One Piece: The Road of the Strong</td>\n",
       "      <td>113840000</td>\n",
       "    </tr>\n",
       "    <tr>\n",
       "      <th>99</th>\n",
       "      <td>Yahtzee With Buddies</td>\n",
       "      <td>113000000</td>\n",
       "    </tr>\n",
       "    <tr>\n",
       "      <th>100</th>\n",
       "      <td>Dragon Quest Tact</td>\n",
       "      <td>111990000</td>\n",
       "    </tr>\n",
       "    <tr>\n",
       "      <th>101</th>\n",
       "      <td>Fallout Shelter</td>\n",
       "      <td>100000000</td>\n",
       "    </tr>\n",
       "    <tr>\n",
       "      <th>102</th>\n",
       "      <td>Mafia City</td>\n",
       "      <td>100000000</td>\n",
       "    </tr>\n",
       "    <tr>\n",
       "      <th>103</th>\n",
       "      <td>Madden NFL Overdrive</td>\n",
       "      <td>100000000</td>\n",
       "    </tr>\n",
       "  </tbody>\n",
       "</table>\n",
       "</div>"
      ],
      "text/plain": [
       "                                  Game    Revenue\n",
       "84                    Empire & Puzzles  186000000\n",
       "85                     KartRider Rush+  169000000\n",
       "86                       Dragalia Lost  168000000\n",
       "87                Perfect World Mobile  165000000\n",
       "88         Three Kingdoms Fantasy Land  161600000\n",
       "89              Candy Crush Jelly Saga  158000000\n",
       "90           Jikkyō Powerful Pro Yakyū  155000000\n",
       "91                  Puzzles & Survival  151000000\n",
       "92                          Slotomania  149000000\n",
       "93                     NBA Live Mobile  140000000\n",
       "94                   White Cat Project  134000000\n",
       "95       BanG Dream! Girls Band Party!  124050000\n",
       "96                        CSR Racing 2  121500000\n",
       "97             One Piece: Burning Will  117000000\n",
       "98   One Piece: The Road of the Strong  113840000\n",
       "99                Yahtzee With Buddies  113000000\n",
       "100                  Dragon Quest Tact  111990000\n",
       "101                    Fallout Shelter  100000000\n",
       "102                         Mafia City  100000000\n",
       "103               Madden NFL Overdrive  100000000"
      ]
     },
     "execution_count": 12,
     "metadata": {},
     "output_type": "execute_result"
    }
   ],
   "source": [
    "df[['Game', 'Revenue']].tail(20)\n",
    "# 20 Game Terbawah"
   ]
  },
  {
   "cell_type": "code",
   "execution_count": 20,
   "id": "2a35a73b-48c8-494c-800b-e7a781efa80b",
   "metadata": {},
   "outputs": [
    {
     "data": {
      "image/png": "[encoded data removed]",
      "text/plain": [
       "<Figure size 1200x800 with 1 Axes>"
      ]
     },
     "metadata": {},
     "output_type": "display_data"
    }
   ],
   "source": [
    "# 20 Game Teratas\n",
    "top_mobile_games = df.sort_values('Revenue', ascending=False).head(20)\n",
    "\n",
    "#Bar Chart\n",
    "\n",
    "plt.figure(figsize=(12, 8))\n",
    "sns.barplot(x='Revenue', y='Game', data=top_mobile_games)\n",
    "plt.title('20 Game Pendapatan Teratas')\n",
    "plt.xlabel('Total Revenue')\n",
    "plt.ylabel('Game')\n",
    "plt.show()"
   ]
  },
  {
   "cell_type": "code",
   "execution_count": 21,
   "id": "65506f24-2ff9-43d2-924c-520022182ad5",
   "metadata": {},
   "outputs": [
    {
     "data": {
      "image/png": "[encoded data removed]",
      "text/plain": [
       "<Figure size 1200x800 with 1 Axes>"
      ]
     },
     "metadata": {},
     "output_type": "display_data"
    }
   ],
   "source": [
    "# 20 Game Terbawah\n",
    "min_mobile_games = df.sort_values('Revenue', ascending=False).tail(20)\n",
    "\n",
    "#Bar Chart\n",
    "\n",
    "plt.figure(figsize=(12, 8))\n",
    "sns.barplot(x='Revenue', y='Game', data=min_mobile_games)\n",
    "plt.title('20 Game Pendapatan Terendah')\n",
    "plt.xlabel('Total Revenue')\n",
    "plt.ylabel('Game')\n",
    "plt.show()"
   ]
  },
  {
   "cell_type": "code",
   "execution_count": 22,
   "id": "96461ad3-bd57-4cbf-891d-6e9bd6862ae4",
   "metadata": {},
   "outputs": [
    {
     "data": {
      "application/vnd.plotly.v1+json": {
       "config": {
        "plotlyServerURL": "https://plot.ly"
       },
       "data": [
        {
         "hovertemplate": "<b>%{hovertext}</b><br><br>Years Since Release=%{x}<br>Normalized Revenue=%{y}<extra></extra>",
         "hovertext": [
          "Honor of Kings / Arena of Valor",
          "Monster Strike",
          "PUBG Mobile",
          "Puzzle & Dragons",
          "Clash of Clans",
          "Pokémon Go",
          "Candy Crush Saga",
          "Fate/Grand Order",
          "Fantasy Westward Journey",
          "Garena Free Fire",
          "Roblox Mobile",
          "Genshin Impact",
          "Lineage M",
          "Dragon Ball Z: Dokkan Battle",
          "Coin Master",
          "Clash Royale",
          "Gardenscapes",
          "Game of War: Fire Age",
          "Lords Mobile",
          "Homescapes",
          "Pro Yakyū Spirits A / Pro Baseball Spirits A",
          "Lineage 2: Revolution",
          "Candy Crush Soda Saga",
          "Three Kingdoms Tactics",
          "Marvel Contest of Champions",
          "Toon Blast",
          "Disney Tsum Tsum",
          "Call of Duty: Mobile",
          "Knives Out",
          "AFK Arena",
          "Lineage 2 M",
          "Hay Day",
          "Brawl Stars",
          "Summoners War: Sky Arena",
          "Fortnite",
          "Onmyoji",
          "Star Wars: Galaxy of Heroes",
          "Boom Beach",
          "Mobile Strike",
          "Mobile Legends: Bang Bang",
          "Fire Emblem Heroes",
          "Uma Musume Pretty Derby",
          "QQ Speed Mobile / Speed Drifters",
          "Dragon Ball Legends",
          "Dragon Quest Walk",
          "Rise of Kingdoms",
          "Fishdom",
          "Township",
          "A Chinese Ghost Story",
          "Marvel Strike Force",
          "Toy Blast",
          "Granblue Fantasy",
          "Honkai Impact 3rd",
          "King of Avalon",
          "Clash of Kings",
          "The Seven Deadly Sins: Grand Cross",
          "Hearthstone",
          "The Battle Cats",
          "The Idolmaster Cinderella Girls: Starlight Stage",
          "Final Fantasy XV: A New Empire",
          "Guns of Glory",
          "League of Legends: Wild Rift",
          "Minecraft",
          "Crossfire Mobile",
          "Blade & Soul Revolution",
          "Bingo Blitz",
          "Harry Potter: Hogwarts Mystery",
          "8 Ball Pool",
          "Harry Potter: Magic Awakened",
          "Angry Birds 2",
          "FIFA Mobile / FIFA Soccer",
          "Lineage W",
          "Black Desert Mobile",
          "Yu-Gi-Oh! Duel Links",
          "Mario Kart Tour",
          "Animal Crossing: Pocket Camp",
          "#COMPASS",
          "Raid: Shadow Legends",
          "Star Trek Fleet Command",
          "Project Makeover",
          "Harry Potter: Puzzles & Spells",
          "DomiNations",
          "Candy Crush Friends Saga",
          "Top War",
          "Empire & Puzzles",
          "KartRider Rush+",
          "Dragalia Lost",
          "Perfect World Mobile",
          "Three Kingdoms Fantasy Land",
          "Candy Crush Jelly Saga",
          "Jikkyō Powerful Pro Yakyū",
          "Puzzles & Survival",
          "Slotomania",
          "NBA Live Mobile",
          "White Cat Project",
          "BanG Dream! Girls Band Party!",
          "CSR Racing 2",
          "One Piece: Burning Will",
          "One Piece: The Road of the Strong",
          "Yahtzee With Buddies",
          "Dragon Quest Tact",
          "Fallout Shelter",
          "Mafia City",
          "Madden NFL Overdrive"
         ],
         "legendgroup": "",
         "marker": {
          "color": "#636efa",
          "symbol": "circle"
         },
         "mode": "markers",
         "name": "",
         "orientation": "v",
         "showlegend": false,
         "type": "scatter",
         "x": [
          8.534246575342467,
          10.835616438356164,
          6.221917808219178,
          12.301369863013699,
          11.852054794520548,
          7.923287671232877,
          11.567123287671233,
          8.860273972602739,
          9.205479452054794,
          6.50958904109589,
          11.493150684931507,
          3.6904109589041094,
          6.964383561643835,
          9.356164383561644,
          6.221917808219178,
          8.26849315068493,
          7.926027397260274,
          10.873972602739727,
          8.282191780821918,
          6.728767123287671,
          8.632876712328768,
          7.482191780821918,
          9.635616438356164,
          4.717808219178083,
          9.495890410958904,
          7.265753424657534,
          10.35890410958904,
          4.684931506849315,
          6.53972602739726,
          5.416438356164384,
          4.528767123287671,
          11.967123287671233,
          5.487671232876712,
          9.991780821917809,
          6.183561643835616,
          7.967123287671233,
          8.53972602739726,
          10.575342465753424,
          8.912328767123288,
          7.909589041095891,
          7.345205479452055,
          3.282191780821918,
          6.980821917808219,
          6.057534246575343,
          4.736986301369863,
          5.715068493150685,
          8.495890410958904,
          12.29041095890411,
          8.054794520547945,
          6.197260273972603,
          9.421917808219177,
          10.24931506849315,
          7.64931506849315,
          7.901369863013699,
          9.986301369863014,
          5.010958904109589,
          10.147945205479452,
          11.602739726027398,
          8.764383561643836,
          6.942465753424657,
          6.747945205479452,
          3.610958904109589,
          12.558904109589042,
          8.515068493150684,
          5.504109589041096,
          11.824657534246576,
          6.120547945205479,
          13.652054794520549,
          2.7424657534246575,
          8.860273972602739,
          7.657534246575342,
          2.589041095890411,
          4.980821917808219,
          7.556164383561644,
          4.701369863013698,
          6.619178082191781,
          7.473972602739726,
          5.86027397260274,
          5.523287671232877,
          3.526027397260274,
          3.706849315068493,
          9.189041095890412,
          5.66027397260274,
          4.435616438356164,
          7.271232876712329,
          4.019178082191781,
          5.695890410958904,
          5.260273972602739,
          3.9643835616438357,
          8.780821917808218,
          9.473972602739726,
          3.6794520547945204,
          12.58904109589041,
          7.923287671232877,
          9.904109589041095,
          7.23013698630137,
          7.942465753424657,
          5.715068493150685,
          8.397260273972602,
          6.6,
          3.893150684931507,
          8.986301369863014,
          6.8712328767123285,
          5.813698630136987
         ],
         "xaxis": "x",
         "y": [
          1718663723.9165328,
          922882427.3072062,
          1446499339.4980185,
          697348351.8930957,
          674988441.9787333,
          979391424.6196404,
          644585504.5002369,
          711038961.038961,
          510565476.19047624,
          665172558.9225589,
          340985697.25864124,
          966559020.0445435,
          513756884.343037,
          374084919.4729136,
          483452223.6900044,
          362823061.63021874,
          378499827.1690287,
          257495590.82892415,
          311113298.0482964,
          340924267.1009772,
          254839733.41796252,
          281571237.64188945,
          207563264.14557862,
          410402439.0243902,
          187870744.3739181,
          220211161.38763198,
          144802962.17931765,
          320175438.5964912,
          227115018.85211563,
          267703591.2999494,
          312005444.646098,
          116987179.48717949,
          255117324.01397902,
          135111050.17822868,
          194062915.3743908,
          141707359.00962862,
          125413859.4802695,
          94559585.49222799,
          112204119.27451582,
          126428818.84308971,
          136143230.1380082,
          301627712.8547579,
          135370879.1208791,
          153527815.46811396,
          195846038.17235395,
          162027804.41035473,
          108711383.42470172,
          75025969.68345965,
          106768707.4829932,
          136511936.33952254,
          87031113.69584182,
          73585404.97193265,
          95564111.74785101,
          91250000,
          70096021.9478738,
          135702569.71022415,
          65037796.9762419,
          51711924.43919716,
          59787433.57299156,
          74670876.08524074,
          75578562.72838002,
          139852048.55842185,
          39812390.92495637,
          53787001.28700129,
          83028870.08461922,
          37464087.117701575,
          65517009.847806625,
          29299618.70359221,
          130539460.53946054,
          37527056.27705628,
          40313237.924865834,
          117025952.38095237,
          60231023.102310225,
          37585206.671501085,
          59982517.48251749,
          42603476.82119205,
          37597140.76246334,
          42148200.093501635,
          40193452.38095238,
          61825951.82595182,
          58810051.736881,
          21765056.648777578,
          35333978.70280736,
          43285978.99938234,
          25580256.217030898,
          42048398.09134288,
          29494949.494949497,
          31367187.5,
          40762957.84381479,
          17993759.750390016,
          16360613.071139386,
          41038719.28518243,
          11835690.968443962,
          17669432.918395575,
          13529737.206085755,
          17157351.269420233,
          15297516.384960331,
          20472195.58964525,
          13556802.610114193,
          17121212.12121212,
          28765904.292751584,
          11128048.780487804,
          14553429.027113238,
          17200754.005655043
         ],
         "yaxis": "y"
        }
       ],
       "layout": {
        "autosize": true,
        "legend": {
         "tracegroupgap": 0
        },
        "margin": {
         "t": 60
        },
        "template": {
         "data": {
          "bar": [
           {
            "error_x": {
             "color": "#2a3f5f"
            },
            "error_y": {
             "color": "#2a3f5f"
            },
            "marker": {
             "line": {
              "color": "#E5ECF6",
              "width": 0.5
             },
             "pattern": {
              "fillmode": "overlay",
              "size": 10,
              "solidity": 0.2
             }
            },
            "type": "bar"
           }
          ],
          "barpolar": [
           {
            "marker": {
             "line": {
              "color": "#E5ECF6",
              "width": 0.5
             },
             "pattern": {
              "fillmode": "overlay",
              "size": 10,
              "solidity": 0.2
             }
            },
            "type": "barpolar"
           }
          ],
          "carpet": [
           {
            "aaxis": {
             "endlinecolor": "#2a3f5f",
             "gridcolor": "white",
             "linecolor": "white",
             "minorgridcolor": "white",
             "startlinecolor": "#2a3f5f"
            },
            "baxis": {
             "endlinecolor": "#2a3f5f",
             "gridcolor": "white",
             "linecolor": "white",
             "minorgridcolor": "white",
             "startlinecolor": "#2a3f5f"
            },
            "type": "carpet"
           }
          ],
          "choropleth": [
           {
            "colorbar": {
             "outlinewidth": 0,
             "ticks": ""
            },
            "type": "choropleth"
           }
          ],
          "contour": [
           {
            "colorbar": {
             "outlinewidth": 0,
             "ticks": ""
            },
            "colorscale": [
             [
              0,
              "#0d0887"
             ],
             [
              0.1111111111111111,
              "#46039f"
             ],
             [
              0.2222222222222222,
              "#7201a8"
             ],
             [
              0.3333333333333333,
              "#9c179e"
             ],
             [
              0.4444444444444444,
              "#bd3786"
             ],
             [
              0.5555555555555556,
              "#d8576b"
             ],
             [
              0.6666666666666666,
              "#ed7953"
             ],
             [
              0.7777777777777778,
              "#fb9f3a"
             ],
             [
              0.8888888888888888,
              "#fdca26"
             ],
             [
              1,
              "#f0f921"
             ]
            ],
            "type": "contour"
           }
          ],
          "contourcarpet": [
           {
            "colorbar": {
             "outlinewidth": 0,
             "ticks": ""
            },
            "type": "contourcarpet"
           }
          ],
          "heatmap": [
           {
            "colorbar": {
             "outlinewidth": 0,
             "ticks": ""
            },
            "colorscale": [
             [
              0,
              "#0d0887"
             ],
             [
              0.1111111111111111,
              "#46039f"
             ],
             [
              0.2222222222222222,
              "#7201a8"
             ],
             [
              0.3333333333333333,
              "#9c179e"
             ],
             [
              0.4444444444444444,
              "#bd3786"
             ],
             [
              0.5555555555555556,
              "#d8576b"
             ],
             [
              0.6666666666666666,
              "#ed7953"
             ],
             [
              0.7777777777777778,
              "#fb9f3a"
             ],
             [
              0.8888888888888888,
              "#fdca26"
             ],
             [
              1,
              "#f0f921"
             ]
            ],
            "type": "heatmap"
           }
          ],
          "heatmapgl": [
           {
            "colorbar": {
             "outlinewidth": 0,
             "ticks": ""
            },
            "colorscale": [
             [
              0,
              "#0d0887"
             ],
             [
              0.1111111111111111,
              "#46039f"
             ],
             [
              0.2222222222222222,
              "#7201a8"
             ],
             [
              0.3333333333333333,
              "#9c179e"
             ],
             [
              0.4444444444444444,
              "#bd3786"
             ],
             [
              0.5555555555555556,
              "#d8576b"
             ],
             [
              0.6666666666666666,
              "#ed7953"
             ],
             [
              0.7777777777777778,
              "#fb9f3a"
             ],
             [
              0.8888888888888888,
              "#fdca26"
             ],
             [
              1,
              "#f0f921"
             ]
            ],
            "type": "heatmapgl"
           }
          ],
          "histogram": [
           {
            "marker": {
             "pattern": {
              "fillmode": "overlay",
              "size": 10,
              "solidity": 0.2
             }
            },
            "type": "histogram"
           }
          ],
          "histogram2d": [
           {
            "colorbar": {
             "outlinewidth": 0,
             "ticks": ""
            },
            "colorscale": [
             [
              0,
              "#0d0887"
             ],
             [
              0.1111111111111111,
              "#46039f"
             ],
             [
              0.2222222222222222,
              "#7201a8"
             ],
             [
              0.3333333333333333,
              "#9c179e"
             ],
             [
              0.4444444444444444,
              "#bd3786"
             ],
             [
              0.5555555555555556,
              "#d8576b"
             ],
             [
              0.6666666666666666,
              "#ed7953"
             ],
             [
              0.7777777777777778,
              "#fb9f3a"
             ],
             [
              0.8888888888888888,
              "#fdca26"
             ],
             [
              1,
              "#f0f921"
             ]
            ],
            "type": "histogram2d"
           }
          ],
          "histogram2dcontour": [
           {
            "colorbar": {
             "outlinewidth": 0,
             "ticks": ""
            },
            "colorscale": [
             [
              0,
              "#0d0887"
             ],
             [
              0.1111111111111111,
              "#46039f"
             ],
             [
              0.2222222222222222,
              "#7201a8"
             ],
             [
              0.3333333333333333,
              "#9c179e"
             ],
             [
              0.4444444444444444,
              "#bd3786"
             ],
             [
              0.5555555555555556,
              "#d8576b"
             ],
             [
              0.6666666666666666,
              "#ed7953"
             ],
             [
              0.7777777777777778,
              "#fb9f3a"
             ],
             [
              0.8888888888888888,
              "#fdca26"
             ],
             [
              1,
              "#f0f921"
             ]
            ],
            "type": "histogram2dcontour"
           }
          ],
          "mesh3d": [
           {
            "colorbar": {
             "outlinewidth": 0,
             "ticks": ""
            },
            "type": "mesh3d"
           }
          ],
          "parcoords": [
           {
            "line": {
             "colorbar": {
              "outlinewidth": 0,
              "ticks": ""
             }
            },
            "type": "parcoords"
           }
          ],
          "pie": [
           {
            "automargin": true,
            "type": "pie"
           }
          ],
          "scatter": [
           {
            "fillpattern": {
             "fillmode": "overlay",
             "size": 10,
             "solidity": 0.2
            },
            "type": "scatter"
           }
          ],
          "scatter3d": [
           {
            "line": {
             "colorbar": {
              "outlinewidth": 0,
              "ticks": ""
             }
            },
            "marker": {
             "colorbar": {
              "outlinewidth": 0,
              "ticks": ""
             }
            },
            "type": "scatter3d"
           }
          ],
          "scattercarpet": [
           {
            "marker": {
             "colorbar": {
              "outlinewidth": 0,
              "ticks": ""
             }
            },
            "type": "scattercarpet"
           }
          ],
          "scattergeo": [
           {
            "marker": {
             "colorbar": {
              "outlinewidth": 0,
              "ticks": ""
             }
            },
            "type": "scattergeo"
           }
          ],
          "scattergl": [
           {
            "marker": {
             "colorbar": {
              "outlinewidth": 0,
              "ticks": ""
             }
            },
            "type": "scattergl"
           }
          ],
          "scattermapbox": [
           {
            "marker": {
             "colorbar": {
              "outlinewidth": 0,
              "ticks": ""
             }
            },
            "type": "scattermapbox"
           }
          ],
          "scatterpolar": [
           {
            "marker": {
             "colorbar": {
              "outlinewidth": 0,
              "ticks": ""
             }
            },
            "type": "scatterpolar"
           }
          ],
          "scatterpolargl": [
           {
            "marker": {
             "colorbar": {
              "outlinewidth": 0,
              "ticks": ""
             }
            },
            "type": "scatterpolargl"
           }
          ],
          "scatterternary": [
           {
            "marker": {
             "colorbar": {
              "outlinewidth": 0,
              "ticks": ""
             }
            },
            "type": "scatterternary"
           }
          ],
          "surface": [
           {
            "colorbar": {
             "outlinewidth": 0,
             "ticks": ""
            },
            "colorscale": [
             [
              0,
              "#0d0887"
             ],
             [
              0.1111111111111111,
              "#46039f"
             ],
             [
              0.2222222222222222,
              "#7201a8"
             ],
             [
              0.3333333333333333,
              "#9c179e"
             ],
             [
              0.4444444444444444,
              "#bd3786"
             ],
             [
              0.5555555555555556,
              "#d8576b"
             ],
             [
              0.6666666666666666,
              "#ed7953"
             ],
             [
              0.7777777777777778,
              "#fb9f3a"
             ],
             [
              0.8888888888888888,
              "#fdca26"
             ],
             [
              1,
              "#f0f921"
             ]
            ],
            "type": "surface"
           }
          ],
          "table": [
           {
            "cells": {
             "fill": {
              "color": "#EBF0F8"
             },
             "line": {
              "color": "white"
             }
            },
            "header": {
             "fill": {
              "color": "#C8D4E3"
             },
             "line": {
              "color": "white"
             }
            },
            "type": "table"
           }
          ]
         },
         "layout": {
          "annotationdefaults": {
           "arrowcolor": "#2a3f5f",
           "arrowhead": 0,
           "arrowwidth": 1
          },
          "autotypenumbers": "strict",
          "coloraxis": {
           "colorbar": {
            "outlinewidth": 0,
            "ticks": ""
           }
          },
          "colorscale": {
           "diverging": [
            [
             0,
             "#8e0152"
            ],
            [
             0.1,
             "#c51b7d"
            ],
            [
             0.2,
             "#de77ae"
            ],
            [
             0.3,
             "#f1b6da"
            ],
            [
             0.4,
             "#fde0ef"
            ],
            [
             0.5,
             "#f7f7f7"
            ],
            [
             0.6,
             "#e6f5d0"
            ],
            [
             0.7,
             "#b8e186"
            ],
            [
             0.8,
             "#7fbc41"
            ],
            [
             0.9,
             "#4d9221"
            ],
            [
             1,
             "#276419"
            ]
           ],
           "sequential": [
            [
             0,
             "#0d0887"
            ],
            [
             0.1111111111111111,
             "#46039f"
            ],
            [
             0.2222222222222222,
             "#7201a8"
            ],
            [
             0.3333333333333333,
             "#9c179e"
            ],
            [
             0.4444444444444444,
             "#bd3786"
            ],
            [
             0.5555555555555556,
             "#d8576b"
            ],
            [
             0.6666666666666666,
             "#ed7953"
            ],
            [
             0.7777777777777778,
             "#fb9f3a"
            ],
            [
             0.8888888888888888,
             "#fdca26"
            ],
            [
             1,
             "#f0f921"
            ]
           ],
           "sequentialminus": [
            [
             0,
             "#0d0887"
            ],
            [
             0.1111111111111111,
             "#46039f"
            ],
            [
             0.2222222222222222,
             "#7201a8"
            ],
            [
             0.3333333333333333,
             "#9c179e"
            ],
            [
             0.4444444444444444,
             "#bd3786"
            ],
            [
             0.5555555555555556,
             "#d8576b"
            ],
            [
             0.6666666666666666,
             "#ed7953"
            ],
            [
             0.7777777777777778,
             "#fb9f3a"
            ],
            [
             0.8888888888888888,
             "#fdca26"
            ],
            [
             1,
             "#f0f921"
            ]
           ]
          },
          "colorway": [
           "#636efa",
           "#EF553B",
           "#00cc96",
           "#ab63fa",
           "#FFA15A",
           "#19d3f3",
           "#FF6692",
           "#B6E880",
           "#FF97FF",
           "#FECB52"
          ],
          "font": {
           "color": "#2a3f5f"
          },
          "geo": {
           "bgcolor": "white",
           "lakecolor": "white",
           "landcolor": "#E5ECF6",
           "showlakes": true,
           "showland": true,
           "subunitcolor": "white"
          },
          "hoverlabel": {
           "align": "left"
          },
          "hovermode": "closest",
          "mapbox": {
           "style": "light"
          },
          "paper_bgcolor": "white",
          "plot_bgcolor": "#E5ECF6",
          "polar": {
           "angularaxis": {
            "gridcolor": "white",
            "linecolor": "white",
            "ticks": ""
           },
           "bgcolor": "#E5ECF6",
           "radialaxis": {
            "gridcolor": "white",
            "linecolor": "white",
            "ticks": ""
           }
          },
          "scene": {
           "xaxis": {
            "backgroundcolor": "#E5ECF6",
            "gridcolor": "white",
            "gridwidth": 2,
            "linecolor": "white",
            "showbackground": true,
            "ticks": "",
            "zerolinecolor": "white"
           },
           "yaxis": {
            "backgroundcolor": "#E5ECF6",
            "gridcolor": "white",
            "gridwidth": 2,
            "linecolor": "white",
            "showbackground": true,
            "ticks": "",
            "zerolinecolor": "white"
           },
           "zaxis": {
            "backgroundcolor": "#E5ECF6",
            "gridcolor": "white",
            "gridwidth": 2,
            "linecolor": "white",
            "showbackground": true,
            "ticks": "",
            "zerolinecolor": "white"
           }
          },
          "shapedefaults": {
           "line": {
            "color": "#2a3f5f"
           }
          },
          "ternary": {
           "aaxis": {
            "gridcolor": "white",
            "linecolor": "white",
            "ticks": ""
           },
           "baxis": {
            "gridcolor": "white",
            "linecolor": "white",
            "ticks": ""
           },
           "bgcolor": "#E5ECF6",
           "caxis": {
            "gridcolor": "white",
            "linecolor": "white",
            "ticks": ""
           }
          },
          "title": {
           "x": 0.05
          },
          "xaxis": {
           "automargin": true,
           "gridcolor": "white",
           "linecolor": "white",
           "ticks": "",
           "title": {
            "standoff": 15
           },
           "zerolinecolor": "white",
           "zerolinewidth": 2
          },
          "yaxis": {
           "automargin": true,
           "gridcolor": "white",
           "linecolor": "white",
           "ticks": "",
           "title": {
            "standoff": 15
           },
           "zerolinecolor": "white",
           "zerolinewidth": 2
          }
         }
        },
        "title": {
         "text": "Pendapatan Pertahun vs Tahun Sejak Perilisan"
        },
        "xaxis": {
         "anchor": "y",
         "autorange": true,
         "domain": [
          0,
          1
         ],
         "range": [
          1.9193959257369393,
          14.321699964674021
         ],
         "title": {
          "text": "Tahun Sejak Perilisan"
         },
         "type": "linear"
        },
        "yaxis": {
         "anchor": "x",
         "autorange": true,
         "domain": [
          0,
          1
         ],
         "range": [
          -121082718.71692249,
          1850874491.413943
         ],
         "title": {
          "text": "Pendapatan Pertahun"
         },
         "type": "linear"
        }
       }
      },
      "image/png": "[encoded data removed]",
      "text/html": [
       "<div>                            <div id=\"bc821ece-7eea-486c-9092-2c83035651ac\" class=\"plotly-graph-div\" style=\"height:525px; width:100%;\"></div>            <script type=\"text/javascript\">                require([\"plotly\"], function(Plotly) {                    window.PLOTLYENV=window.PLOTLYENV || {};                                    if (document.getElementById(\"bc821ece-7eea-486c-9092-2c83035651ac\")) {                    Plotly.newPlot(                        \"bc821ece-7eea-486c-9092-2c83035651ac\",                        [{\"hovertemplate\":\"\\u003cb\\u003e%{hovertext}\\u003c\\u002fb\\u003e\\u003cbr\\u003e\\u003cbr\\u003eYears Since Release=%{x}\\u003cbr\\u003eNormalized Revenue=%{y}\\u003cextra\\u003e\\u003c\\u002fextra\\u003e\",\"hovertext\":[\"Honor of Kings \\u002f Arena of Valor\",\"Monster Strike\",\"PUBG Mobile\",\"Puzzle & Dragons\",\"Clash of Clans\",\"Pok\\u00e9mon Go\",\"Candy Crush Saga\",\"Fate\\u002fGrand Order\",\"Fantasy Westward Journey\",\"Garena Free Fire\",\"Roblox Mobile\",\"Genshin Impact\",\"Lineage M\",\"Dragon Ball Z: Dokkan Battle\",\"Coin Master\",\"Clash Royale\",\"Gardenscapes\",\"Game of War: Fire Age\",\"Lords Mobile\",\"Homescapes\",\"Pro Yaky\\u016b Spirits A \\u002f Pro Baseball Spirits A\",\"Lineage 2: Revolution\",\"Candy Crush Soda Saga\",\"Three Kingdoms Tactics\",\"Marvel Contest of Champions\",\"Toon Blast\",\"Disney Tsum Tsum\",\"Call of Duty: Mobile\",\"Knives Out\",\"AFK Arena\",\"Lineage 2 M\",\"Hay Day\",\"Brawl Stars\",\"Summoners War: Sky Arena\",\"Fortnite\",\"Onmyoji\",\"Star Wars: Galaxy of Heroes\",\"Boom Beach\",\"Mobile Strike\",\"Mobile Legends: Bang Bang\",\"Fire Emblem Heroes\",\"Uma Musume Pretty Derby\",\"QQ Speed Mobile \\u002f Speed Drifters\",\"Dragon Ball Legends\",\"Dragon Quest Walk\",\"Rise of Kingdoms\",\"Fishdom\",\"Township\",\"A Chinese Ghost Story\",\"Marvel Strike Force\",\"Toy Blast\",\"Granblue Fantasy\",\"Honkai Impact 3rd\",\"King of Avalon\",\"Clash of Kings\",\"The Seven Deadly Sins: Grand Cross\",\"Hearthstone\",\"The Battle Cats\",\"The Idolmaster Cinderella Girls: Starlight Stage\",\"Final Fantasy XV: A New Empire\",\"Guns of Glory\",\"League of Legends: Wild Rift\",\"Minecraft\",\"Crossfire Mobile\",\"Blade & Soul Revolution\",\"Bingo Blitz\",\"Harry Potter: Hogwarts Mystery\",\"8 Ball Pool\",\"Harry Potter: Magic Awakened\",\"Angry Birds 2\",\"FIFA Mobile \\u002f FIFA Soccer\",\"Lineage W\",\"Black Desert Mobile\",\"Yu-Gi-Oh! Duel Links\",\"Mario Kart Tour\",\"Animal Crossing: Pocket Camp\",\"#COMPASS\",\"Raid: Shadow Legends\",\"Star Trek Fleet Command\",\"Project Makeover\",\"Harry Potter: Puzzles & Spells\",\"DomiNations\",\"Candy Crush Friends Saga\",\"Top War\",\"Empire & Puzzles\",\"KartRider Rush+\",\"Dragalia Lost\",\"Perfect World Mobile\",\"Three Kingdoms Fantasy Land\",\"Candy Crush Jelly Saga\",\"Jikky\\u014d Powerful Pro Yaky\\u016b\",\"Puzzles & Survival\",\"Slotomania\",\"NBA Live Mobile\",\"White Cat Project\",\"BanG Dream! Girls Band Party!\",\"CSR Racing 2\",\"One Piece: Burning Will\",\"One Piece: The Road of the Strong\",\"Yahtzee With Buddies\",\"Dragon Quest Tact\",\"Fallout Shelter\",\"Mafia City\",\"Madden NFL Overdrive\"],\"legendgroup\":\"\",\"marker\":{\"color\":\"#636efa\",\"symbol\":\"circle\"},\"mode\":\"markers\",\"name\":\"\",\"orientation\":\"v\",\"showlegend\":false,\"x\":[8.534246575342467,10.835616438356164,6.221917808219178,12.301369863013699,11.852054794520548,7.923287671232877,11.567123287671233,8.860273972602739,9.205479452054794,6.50958904109589,11.493150684931507,3.6904109589041094,6.964383561643835,9.356164383561644,6.221917808219178,8.26849315068493,7.926027397260274,10.873972602739727,8.282191780821918,6.728767123287671,8.632876712328768,7.482191780821918,9.635616438356164,4.717808219178083,9.495890410958904,7.265753424657534,10.35890410958904,4.684931506849315,6.53972602739726,5.416438356164384,4.528767123287671,11.967123287671233,5.487671232876712,9.991780821917809,6.183561643835616,7.967123287671233,8.53972602739726,10.575342465753424,8.912328767123288,7.909589041095891,7.345205479452055,3.282191780821918,6.980821917808219,6.057534246575343,4.736986301369863,5.715068493150685,8.495890410958904,12.29041095890411,8.054794520547945,6.197260273972603,9.421917808219177,10.24931506849315,7.64931506849315,7.901369863013699,9.986301369863014,5.010958904109589,10.147945205479452,11.602739726027398,8.764383561643836,6.942465753424657,6.747945205479452,3.610958904109589,12.558904109589042,8.515068493150684,5.504109589041096,11.824657534246576,6.120547945205479,13.652054794520549,2.7424657534246575,8.860273972602739,7.657534246575342,2.589041095890411,4.980821917808219,7.556164383561644,4.701369863013698,6.619178082191781,7.473972602739726,5.86027397260274,5.523287671232877,3.526027397260274,3.706849315068493,9.189041095890412,5.66027397260274,4.435616438356164,7.271232876712329,4.019178082191781,5.695890410958904,5.260273972602739,3.9643835616438357,8.780821917808218,9.473972602739726,3.6794520547945204,12.58904109589041,7.923287671232877,9.904109589041095,7.23013698630137,7.942465753424657,5.715068493150685,8.397260273972602,6.6,3.893150684931507,8.986301369863014,6.8712328767123285,5.813698630136987],\"xaxis\":\"x\",\"y\":[1718663723.9165328,922882427.3072062,1446499339.4980185,697348351.8930957,674988441.9787333,979391424.6196404,644585504.5002369,711038961.038961,510565476.19047624,665172558.9225589,340985697.25864124,966559020.0445435,513756884.343037,374084919.4729136,483452223.6900044,362823061.63021874,378499827.1690287,257495590.82892415,311113298.0482964,340924267.1009772,254839733.41796252,281571237.64188945,207563264.14557862,410402439.0243902,187870744.3739181,220211161.38763198,144802962.17931765,320175438.5964912,227115018.85211563,267703591.2999494,312005444.646098,116987179.48717949,255117324.01397902,135111050.17822868,194062915.3743908,141707359.00962862,125413859.4802695,94559585.49222799,112204119.27451582,126428818.84308971,136143230.1380082,301627712.8547579,135370879.1208791,153527815.46811396,195846038.17235395,162027804.41035473,108711383.42470172,75025969.68345965,106768707.4829932,136511936.33952254,87031113.69584182,73585404.97193265,95564111.74785101,91250000.0,70096021.9478738,135702569.71022415,65037796.9762419,51711924.43919716,59787433.57299156,74670876.08524074,75578562.72838002,139852048.55842185,39812390.92495637,53787001.28700129,83028870.08461922,37464087.117701575,65517009.847806625,29299618.70359221,130539460.53946054,37527056.27705628,40313237.924865834,117025952.38095237,60231023.102310225,37585206.671501085,59982517.48251749,42603476.82119205,37597140.76246334,42148200.093501635,40193452.38095238,61825951.82595182,58810051.736881,21765056.648777578,35333978.70280736,43285978.99938234,25580256.217030898,42048398.09134288,29494949.494949497,31367187.5,40762957.84381479,17993759.750390016,16360613.071139386,41038719.28518243,11835690.968443962,17669432.918395575,13529737.206085755,17157351.269420233,15297516.384960331,20472195.58964525,13556802.610114193,17121212.12121212,28765904.292751584,11128048.780487804,14553429.027113238,17200754.005655043],\"yaxis\":\"y\",\"type\":\"scatter\"}],                        {\"template\":{\"data\":{\"histogram2dcontour\":[{\"type\":\"histogram2dcontour\",\"colorbar\":{\"outlinewidth\":0,\"ticks\":\"\"},\"colorscale\":[[0.0,\"#0d0887\"],[0.1111111111111111,\"#46039f\"],[0.2222222222222222,\"#7201a8\"],[0.3333333333333333,\"#9c179e\"],[0.4444444444444444,\"#bd3786\"],[0.5555555555555556,\"#d8576b\"],[0.6666666666666666,\"#ed7953\"],[0.7777777777777778,\"#fb9f3a\"],[0.8888888888888888,\"#fdca26\"],[1.0,\"#f0f921\"]]}],\"choropleth\":[{\"type\":\"choropleth\",\"colorbar\":{\"outlinewidth\":0,\"ticks\":\"\"}}],\"histogram2d\":[{\"type\":\"histogram2d\",\"colorbar\":{\"outlinewidth\":0,\"ticks\":\"\"},\"colorscale\":[[0.0,\"#0d0887\"],[0.1111111111111111,\"#46039f\"],[0.2222222222222222,\"#7201a8\"],[0.3333333333333333,\"#9c179e\"],[0.4444444444444444,\"#bd3786\"],[0.5555555555555556,\"#d8576b\"],[0.6666666666666666,\"#ed7953\"],[0.7777777777777778,\"#fb9f3a\"],[0.8888888888888888,\"#fdca26\"],[1.0,\"#f0f921\"]]}],\"heatmap\":[{\"type\":\"heatmap\",\"colorbar\":{\"outlinewidth\":0,\"ticks\":\"\"},\"colorscale\":[[0.0,\"#0d0887\"],[0.1111111111111111,\"#46039f\"],[0.2222222222222222,\"#7201a8\"],[0.3333333333333333,\"#9c179e\"],[0.4444444444444444,\"#bd3786\"],[0.5555555555555556,\"#d8576b\"],[0.6666666666666666,\"#ed7953\"],[0.7777777777777778,\"#fb9f3a\"],[0.8888888888888888,\"#fdca26\"],[1.0,\"#f0f921\"]]}],\"heatmapgl\":[{\"type\":\"heatmapgl\",\"colorbar\":{\"outlinewidth\":0,\"ticks\":\"\"},\"colorscale\":[[0.0,\"#0d0887\"],[0.1111111111111111,\"#46039f\"],[0.2222222222222222,\"#7201a8\"],[0.3333333333333333,\"#9c179e\"],[0.4444444444444444,\"#bd3786\"],[0.5555555555555556,\"#d8576b\"],[0.6666666666666666,\"#ed7953\"],[0.7777777777777778,\"#fb9f3a\"],[0.8888888888888888,\"#fdca26\"],[1.0,\"#f0f921\"]]}],\"contourcarpet\":[{\"type\":\"contourcarpet\",\"colorbar\":{\"outlinewidth\":0,\"ticks\":\"\"}}],\"contour\":[{\"type\":\"contour\",\"colorbar\":{\"outlinewidth\":0,\"ticks\":\"\"},\"colorscale\":[[0.0,\"#0d0887\"],[0.1111111111111111,\"#46039f\"],[0.2222222222222222,\"#7201a8\"],[0.3333333333333333,\"#9c179e\"],[0.4444444444444444,\"#bd3786\"],[0.5555555555555556,\"#d8576b\"],[0.6666666666666666,\"#ed7953\"],[0.7777777777777778,\"#fb9f3a\"],[0.8888888888888888,\"#fdca26\"],[1.0,\"#f0f921\"]]}],\"surface\":[{\"type\":\"surface\",\"colorbar\":{\"outlinewidth\":0,\"ticks\":\"\"},\"colorscale\":[[0.0,\"#0d0887\"],[0.1111111111111111,\"#46039f\"],[0.2222222222222222,\"#7201a8\"],[0.3333333333333333,\"#9c179e\"],[0.4444444444444444,\"#bd3786\"],[0.5555555555555556,\"#d8576b\"],[0.6666666666666666,\"#ed7953\"],[0.7777777777777778,\"#fb9f3a\"],[0.8888888888888888,\"#fdca26\"],[1.0,\"#f0f921\"]]}],\"mesh3d\":[{\"type\":\"mesh3d\",\"colorbar\":{\"outlinewidth\":0,\"ticks\":\"\"}}],\"scatter\":[{\"fillpattern\":{\"fillmode\":\"overlay\",\"size\":10,\"solidity\":0.2},\"type\":\"scatter\"}],\"parcoords\":[{\"type\":\"parcoords\",\"line\":{\"colorbar\":{\"outlinewidth\":0,\"ticks\":\"\"}}}],\"scatterpolargl\":[{\"type\":\"scatterpolargl\",\"marker\":{\"colorbar\":{\"outlinewidth\":0,\"ticks\":\"\"}}}],\"bar\":[{\"error_x\":{\"color\":\"#2a3f5f\"},\"error_y\":{\"color\":\"#2a3f5f\"},\"marker\":{\"line\":{\"color\":\"#E5ECF6\",\"width\":0.5},\"pattern\":{\"fillmode\":\"overlay\",\"size\":10,\"solidity\":0.2}},\"type\":\"bar\"}],\"scattergeo\":[{\"type\":\"scattergeo\",\"marker\":{\"colorbar\":{\"outlinewidth\":0,\"ticks\":\"\"}}}],\"scatterpolar\":[{\"type\":\"scatterpolar\",\"marker\":{\"colorbar\":{\"outlinewidth\":0,\"ticks\":\"\"}}}],\"histogram\":[{\"marker\":{\"pattern\":{\"fillmode\":\"overlay\",\"size\":10,\"solidity\":0.2}},\"type\":\"histogram\"}],\"scattergl\":[{\"type\":\"scattergl\",\"marker\":{\"colorbar\":{\"outlinewidth\":0,\"ticks\":\"\"}}}],\"scatter3d\":[{\"type\":\"scatter3d\",\"line\":{\"colorbar\":{\"outlinewidth\":0,\"ticks\":\"\"}},\"marker\":{\"colorbar\":{\"outlinewidth\":0,\"ticks\":\"\"}}}],\"scattermapbox\":[{\"type\":\"scattermapbox\",\"marker\":{\"colorbar\":{\"outlinewidth\":0,\"ticks\":\"\"}}}],\"scatterternary\":[{\"type\":\"scatterternary\",\"marker\":{\"colorbar\":{\"outlinewidth\":0,\"ticks\":\"\"}}}],\"scattercarpet\":[{\"type\":\"scattercarpet\",\"marker\":{\"colorbar\":{\"outlinewidth\":0,\"ticks\":\"\"}}}],\"carpet\":[{\"aaxis\":{\"endlinecolor\":\"#2a3f5f\",\"gridcolor\":\"white\",\"linecolor\":\"white\",\"minorgridcolor\":\"white\",\"startlinecolor\":\"#2a3f5f\"},\"baxis\":{\"endlinecolor\":\"#2a3f5f\",\"gridcolor\":\"white\",\"linecolor\":\"white\",\"minorgridcolor\":\"white\",\"startlinecolor\":\"#2a3f5f\"},\"type\":\"carpet\"}],\"table\":[{\"cells\":{\"fill\":{\"color\":\"#EBF0F8\"},\"line\":{\"color\":\"white\"}},\"header\":{\"fill\":{\"color\":\"#C8D4E3\"},\"line\":{\"color\":\"white\"}},\"type\":\"table\"}],\"barpolar\":[{\"marker\":{\"line\":{\"color\":\"#E5ECF6\",\"width\":0.5},\"pattern\":{\"fillmode\":\"overlay\",\"size\":10,\"solidity\":0.2}},\"type\":\"barpolar\"}],\"pie\":[{\"automargin\":true,\"type\":\"pie\"}]},\"layout\":{\"autotypenumbers\":\"strict\",\"colorway\":[\"#636efa\",\"#EF553B\",\"#00cc96\",\"#ab63fa\",\"#FFA15A\",\"#19d3f3\",\"#FF6692\",\"#B6E880\",\"#FF97FF\",\"#FECB52\"],\"font\":{\"color\":\"#2a3f5f\"},\"hovermode\":\"closest\",\"hoverlabel\":{\"align\":\"left\"},\"paper_bgcolor\":\"white\",\"plot_bgcolor\":\"#E5ECF6\",\"polar\":{\"bgcolor\":\"#E5ECF6\",\"angularaxis\":{\"gridcolor\":\"white\",\"linecolor\":\"white\",\"ticks\":\"\"},\"radialaxis\":{\"gridcolor\":\"white\",\"linecolor\":\"white\",\"ticks\":\"\"}},\"ternary\":{\"bgcolor\":\"#E5ECF6\",\"aaxis\":{\"gridcolor\":\"white\",\"linecolor\":\"white\",\"ticks\":\"\"},\"baxis\":{\"gridcolor\":\"white\",\"linecolor\":\"white\",\"ticks\":\"\"},\"caxis\":{\"gridcolor\":\"white\",\"linecolor\":\"white\",\"ticks\":\"\"}},\"coloraxis\":{\"colorbar\":{\"outlinewidth\":0,\"ticks\":\"\"}},\"colorscale\":{\"sequential\":[[0.0,\"#0d0887\"],[0.1111111111111111,\"#46039f\"],[0.2222222222222222,\"#7201a8\"],[0.3333333333333333,\"#9c179e\"],[0.4444444444444444,\"#bd3786\"],[0.5555555555555556,\"#d8576b\"],[0.6666666666666666,\"#ed7953\"],[0.7777777777777778,\"#fb9f3a\"],[0.8888888888888888,\"#fdca26\"],[1.0,\"#f0f921\"]],\"sequentialminus\":[[0.0,\"#0d0887\"],[0.1111111111111111,\"#46039f\"],[0.2222222222222222,\"#7201a8\"],[0.3333333333333333,\"#9c179e\"],[0.4444444444444444,\"#bd3786\"],[0.5555555555555556,\"#d8576b\"],[0.6666666666666666,\"#ed7953\"],[0.7777777777777778,\"#fb9f3a\"],[0.8888888888888888,\"#fdca26\"],[1.0,\"#f0f921\"]],\"diverging\":[[0,\"#8e0152\"],[0.1,\"#c51b7d\"],[0.2,\"#de77ae\"],[0.3,\"#f1b6da\"],[0.4,\"#fde0ef\"],[0.5,\"#f7f7f7\"],[0.6,\"#e6f5d0\"],[0.7,\"#b8e186\"],[0.8,\"#7fbc41\"],[0.9,\"#4d9221\"],[1,\"#276419\"]]},\"xaxis\":{\"gridcolor\":\"white\",\"linecolor\":\"white\",\"ticks\":\"\",\"title\":{\"standoff\":15},\"zerolinecolor\":\"white\",\"automargin\":true,\"zerolinewidth\":2},\"yaxis\":{\"gridcolor\":\"white\",\"linecolor\":\"white\",\"ticks\":\"\",\"title\":{\"standoff\":15},\"zerolinecolor\":\"white\",\"automargin\":true,\"zerolinewidth\":2},\"scene\":{\"xaxis\":{\"backgroundcolor\":\"#E5ECF6\",\"gridcolor\":\"white\",\"linecolor\":\"white\",\"showbackground\":true,\"ticks\":\"\",\"zerolinecolor\":\"white\",\"gridwidth\":2},\"yaxis\":{\"backgroundcolor\":\"#E5ECF6\",\"gridcolor\":\"white\",\"linecolor\":\"white\",\"showbackground\":true,\"ticks\":\"\",\"zerolinecolor\":\"white\",\"gridwidth\":2},\"zaxis\":{\"backgroundcolor\":\"#E5ECF6\",\"gridcolor\":\"white\",\"linecolor\":\"white\",\"showbackground\":true,\"ticks\":\"\",\"zerolinecolor\":\"white\",\"gridwidth\":2}},\"shapedefaults\":{\"line\":{\"color\":\"#2a3f5f\"}},\"annotationdefaults\":{\"arrowcolor\":\"#2a3f5f\",\"arrowhead\":0,\"arrowwidth\":1},\"geo\":{\"bgcolor\":\"white\",\"landcolor\":\"#E5ECF6\",\"subunitcolor\":\"white\",\"showland\":true,\"showlakes\":true,\"lakecolor\":\"white\"},\"title\":{\"x\":0.05},\"mapbox\":{\"style\":\"light\"}}},\"xaxis\":{\"anchor\":\"y\",\"domain\":[0.0,1.0],\"title\":{\"text\":\"Tahun Sejak Perilisan\"}},\"yaxis\":{\"anchor\":\"x\",\"domain\":[0.0,1.0],\"title\":{\"text\":\"Pendapatan Pertahun\"}},\"legend\":{\"tracegroupgap\":0},\"margin\":{\"t\":60},\"title\":{\"text\":\"Pendapatan Pertahun vs Tahun Sejak Perilisan\"}},                        {\"responsive\": true}                    ).then(function(){\n",
       "                            \n",
       "var gd = document.getElementById('bc821ece-7eea-486c-9092-2c83035651ac');\n",
       "var x = new MutationObserver(function (mutations, observer) {{\n",
       "        var display = window.getComputedStyle(gd).display;\n",
       "        if (!display || display === 'none') {{\n",
       "            console.log([gd, 'removed!']);\n",
       "            Plotly.purge(gd);\n",
       "            observer.disconnect();\n",
       "        }}\n",
       "}});\n",
       "\n",
       "// Listen for the removal of the full notebook cells\n",
       "var notebookContainer = gd.closest('#notebook-container');\n",
       "if (notebookContainer) {{\n",
       "    x.observe(notebookContainer, {childList: true});\n",
       "}}\n",
       "\n",
       "// Listen for the clearing of the current output cell\n",
       "var outputEl = gd.closest('.output');\n",
       "if (outputEl) {{\n",
       "    x.observe(outputEl, {childList: true});\n",
       "}}\n",
       "\n",
       "                        })                };                });            </script>        </div>"
      ]
     },
     "metadata": {},
     "output_type": "display_data"
    }
   ],
   "source": [
    "# Menghubungkan Dengan Tanggal Saat Ini\n",
    "df['Initial release'] = pd.to_datetime(df['Initial release'])\n",
    "current_date = datetime.now()\n",
    "\n",
    "# Menghitung Tahun Sejak Perilisan\n",
    "df['Years Since Release'] = df['Initial release'].apply(lambda x: (current_date - x).days / 365)\n",
    "\n",
    "# Pendapatan Pertahun\n",
    "df['Normalized Revenue'] = df['Revenue'] / df['Years Since Release']\n",
    "\n",
    "top_normalized_games = df.sort_values('Normalized Revenue', ascending=False)\n",
    "\n",
    "# Pengelompokan Berdasarkan Tahun Dan Jumlah Pendapatan\n",
    "yearly_revenue = df.groupby(df['Initial release'].dt.year)['Revenue'].sum()\n",
    "\n",
    "fig = px.scatter(df, x='Years Since Release', y='Normalized Revenue', hover_name='Game')\n",
    "fig.update_layout(title='Pendapatan Pertahun vs Tahun Sejak Perilisan', xaxis_title='Tahun Sejak Perilisan', yaxis_title='Pendapatan Pertahun')\n",
    "fig.show()"
   ]
  },
  {
   "cell_type": "code",
   "execution_count": 23,
   "id": "72057e6d-4b9a-4269-8d71-264393242e7f",
   "metadata": {},
   "outputs": [
    {
     "data": {
      "image/png": "[encoded data removed]",
      "text/plain": [
       "<Figure size 1000x500 with 1 Axes>"
      ]
     },
     "metadata": {},
     "output_type": "display_data"
    }
   ],
   "source": [
    "from sklearn.cluster import KMeans\n",
    "\n",
    "# Menghilangkan Data Yang Tidak Relevan Untuk Pengelompokan\n",
    "X = df[['Years Since Release', 'Normalized Revenue']]\n",
    "\n",
    "# Menentukan Jumlah Cluster Yang Mungkin\n",
    "wcss = []\n",
    "for i in range(1, 11):\n",
    "    kmeans = KMeans(n_clusters=i, init='k-means++', random_state=42)\n",
    "    kmeans.fit(X)\n",
    "    wcss.append(kmeans.inertia_)\n",
    "\n",
    "# Elbow Method\n",
    "plt.figure(figsize=(10,5))\n",
    "plt.plot(range(1, 11), wcss, marker='o', linestyle='--')\n",
    "plt.title('Elbow Method')\n",
    "plt.xlabel('Number of clusters')\n",
    "plt.ylabel('WCSS')\n",
    "plt.show()\n"
   ]
  },
  {
   "cell_type": "code",
   "execution_count": 24,
   "id": "ca11454f-a0d0-425f-932c-6ccb30dff5dc",
   "metadata": {},
   "outputs": [
    {
     "data": {
      "image/png": "[encoded data removed]",
      "text/plain": [
       "<Figure size 1000x500 with 1 Axes>"
      ]
     },
     "metadata": {},
     "output_type": "display_data"
    }
   ],
   "source": [
    "# Menerapkan Algoritma K-Means Dengan Jumlah Cluster Yang Dipilih\n",
    "kmeans = KMeans(n_clusters=3, init='k-means++', random_state=42)\n",
    "kmeans.fit(X)\n",
    "\n",
    "# Menambahkan Label Cluster Ke Dalam DataFrame\n",
    "df['Cluster'] = kmeans.labels_\n",
    "\n",
    "# Hasil Clustering\n",
    "plt.figure(figsize=(10,5))\n",
    "plt.scatter(df['Years Since Release'], df['Normalized Revenue'], c=df['Cluster'], cmap='viridis', alpha=0.5)\n",
    "plt.title('Hasil Clustering')\n",
    "plt.xlabel('Tahun Sejak Perilisan')\n",
    "plt.ylabel('Pendapatan Pertahun')\n",
    "plt.show()"
   ]
  },
  {
   "cell_type": "code",
   "execution_count": null,
   "id": "32cea6ac-f7b8-4783-9db4-e53cbc4696cc",
   "metadata": {},
   "outputs": [],
   "source": []
  }
 ],
 "metadata": {
  "kernelspec": {
   "display_name": "Python 3 (ipykernel)",
   "language": "python",
   "name": "python3"
  },
  "language_info": {
   "codemirror_mode": {
    "name": "ipython",
    "version": 3
   },
   "file_extension": ".py",
   "mimetype": "text/x-python",
   "name": "python",
   "nbconvert_exporter": "python",
   "pygments_lexer": "ipython3",
   "version": "3.12.2"
  }
 },
 "nbformat": 4,
 "nbformat_minor": 5
}
